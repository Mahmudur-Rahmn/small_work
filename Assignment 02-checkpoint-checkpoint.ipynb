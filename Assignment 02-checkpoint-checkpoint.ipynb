{
 "cells": [
  {
   "cell_type": "markdown",
   "id": "2ce07b6c",
   "metadata": {},
   "source": [
    "# 1.  Write a program that swaps the values of two variables."
   ]
  },
  {
   "cell_type": "code",
   "execution_count": 17,
   "id": "62302a83",
   "metadata": {},
   "outputs": [
    {
     "name": "stdout",
     "output_type": "stream",
     "text": [
      "10 5\n"
     ]
    }
   ],
   "source": [
    "x = 5\n",
    "y = 10\n",
    "temp = x\n",
    "x = y\n",
    "y = temp\n",
    "print(x, y)"
   ]
  },
  {
   "cell_type": "code",
   "execution_count": 9,
   "id": "9521721d",
   "metadata": {},
   "outputs": [
    {
     "name": "stdout",
     "output_type": "stream",
     "text": [
      "x =  10\n",
      "y =  5\n"
     ]
    }
   ],
   "source": [
    "x = 5\n",
    "y = 10\n",
    "x, y = y, x\n",
    "print('x = ', x)\n",
    "print('y = ', y)"
   ]
  },
  {
   "cell_type": "markdown",
   "id": "4e56ce0e",
   "metadata": {},
   "source": [
    "# 2. Write a program that calculates the area of a rectangle given its length and width."
   ]
  },
  {
   "cell_type": "code",
   "execution_count": 15,
   "id": "448d5774",
   "metadata": {},
   "outputs": [
    {
     "name": "stdout",
     "output_type": "stream",
     "text": [
      "Area of the ractangle: 24\n"
     ]
    }
   ],
   "source": [
    "length = 4\n",
    "width = 6\n",
    "area = length * width\n",
    "print('Area of the ractangle:', area)"
   ]
  },
  {
   "cell_type": "markdown",
   "id": "67c429b0",
   "metadata": {},
   "source": [
    "# 3. Write a program that converts temperature from Fahrenheit to Celsius."
   ]
  },
  {
   "cell_type": "code",
   "execution_count": 19,
   "id": "cf6cc69e",
   "metadata": {},
   "outputs": [
    {
     "data": {
      "text/plain": [
       "36.666666666666664"
      ]
     },
     "execution_count": 19,
     "metadata": {},
     "output_type": "execute_result"
    }
   ],
   "source": [
    "fah = 98\n",
    "cel = (fah-32)/1.8\n",
    "cel"
   ]
  },
  {
   "cell_type": "code",
   "execution_count": 22,
   "id": "da3ac247",
   "metadata": {},
   "outputs": [
    {
     "name": "stdout",
     "output_type": "stream",
     "text": [
      "enter the temparature in fahrenheit:\n",
      "98\n",
      "Equivalent Temperature in celsius: 36.666666666666664\n"
     ]
    }
   ],
   "source": [
    "print('enter the temparature in fahrenheit:')\n",
    "fah = float(input())\n",
    "cel = (fah-32)/1.8\n",
    "print('Equivalent Temperature in celsius:', cel)"
   ]
  },
  {
   "cell_type": "code",
   "execution_count": 26,
   "id": "0215c2b9",
   "metadata": {},
   "outputs": [
    {
     "name": "stdout",
     "output_type": "stream",
     "text": [
      "Enter temperature in Farenheit:98\n",
      "Equivalent Temperature in farenheit=36.67\n"
     ]
    }
   ],
   "source": [
    "def FahToCel(f):\n",
    "    return(f-32)/1.8\n",
    "print('Enter temperature in Farenheit:', end='')\n",
    "fah = float(input())\n",
    "\n",
    "cel = FahToCel(fah)\n",
    "print('Equivalent Temperature in farenheit={:.2f}'. format(cel))"
   ]
  },
  {
   "cell_type": "markdown",
   "id": "4a9bdea2",
   "metadata": {},
   "source": [
    "# 4 Write a program that calculates the volume of a sphere given its radius."
   ]
  },
  {
   "cell_type": "code",
   "execution_count": 1,
   "id": "d4e96dad",
   "metadata": {},
   "outputs": [
    {
     "name": "stdout",
     "output_type": "stream",
     "text": [
      "The volume of the sphere is: 904.7786842338603\n"
     ]
    }
   ],
   "source": [
    "#The volume of the sphere is : V = 4/3 × π × r3.\n",
    "# Value of pi\n",
    "pi = 3.1415926535897931\n",
    "#radius of the sphere\n",
    "r = 6.0\n",
    "print('The volume of the sphere is:', 4/3*pi*r**3)"
   ]
  },
  {
   "cell_type": "markdown",
   "id": "835ef208",
   "metadata": {},
   "source": [
    "# 5 Write a program that finds the average of three numbers"
   ]
  },
  {
   "cell_type": "code",
   "execution_count": 4,
   "id": "878a7101",
   "metadata": {},
   "outputs": [
    {
     "name": "stdout",
     "output_type": "stream",
     "text": [
      "Avarage of three  numbers= 4.0\n"
     ]
    }
   ],
   "source": [
    "numbers = [3,4,5]\n",
    "average = sum(numbers)/len(numbers)\n",
    "print('Avarage of three  numbers=',average)"
   ]
  },
  {
   "cell_type": "markdown",
   "id": "da9e0e79",
   "metadata": {},
   "source": [
    "# 6. Write a program that determines if a number is even or odd."
   ]
  },
  {
   "cell_type": "code",
   "execution_count": 1,
   "id": "0c81a69a",
   "metadata": {},
   "outputs": [
    {
     "name": "stdout",
     "output_type": "stream",
     "text": [
      "Enter a number:22\n",
      "This is an even number\n"
     ]
    }
   ],
   "source": [
    "num = int(input('Enter a number:'))\n",
    "if (num % 2) == 0:\n",
    "    print('This is an even number')\n",
    "else:\n",
    "    print('This is an odd number')    "
   ]
  },
  {
   "cell_type": "markdown",
   "id": "b187b817",
   "metadata": {},
   "source": [
    "# 7. Write a program that finds the maximum of three numbers."
   ]
  },
  {
   "cell_type": "code",
   "execution_count": 2,
   "id": "90701c2a",
   "metadata": {},
   "outputs": [
    {
     "name": "stdout",
     "output_type": "stream",
     "text": [
      "The largest number = 34\n"
     ]
    }
   ],
   "source": [
    "x = 22\n",
    "y = 34\n",
    "z = 27\n",
    "if x > y and x > z:\n",
    "    max = x\n",
    "elif y > x and z > x:\n",
    "    max = y\n",
    "else:\n",
    "    max = z\n",
    "print('The largest number =', max)"
   ]
  },
  {
   "cell_type": "markdown",
   "id": "44e20e28",
   "metadata": {},
   "source": [
    "# 8. Write a program that determines if a year is a leap year or not."
   ]
  },
  {
   "cell_type": "code",
   "execution_count": 7,
   "id": "af3a353a",
   "metadata": {},
   "outputs": [
    {
     "name": "stdout",
     "output_type": "stream",
     "text": [
      "Enter a year :2000\n",
      "The year is a leap year!\n"
     ]
    }
   ],
   "source": [
    "year=int(input(\"Enter a year :\"))\n",
    "if (year%4 == 0 and year%100 != 0) or (year%400 == 0):\n",
    "    print(\"The year is a leap year!\")\n",
    "else:\n",
    "    print(\"The year isn't a leap year!\")"
   ]
  },
  {
   "cell_type": "code",
   "execution_count": 10,
   "id": "a08c451d",
   "metadata": {},
   "outputs": [
    {
     "name": "stdout",
     "output_type": "stream",
     "text": [
      "Enter a year:2006\n",
      "2006 is not a leap year\n"
     ]
    }
   ],
   "source": [
    "def check_leapyear(year):\n",
    "    return(year%4 == 0 and year%100 != 0) or (year%400 == 0)\n",
    "\n",
    "year = int(input('Enter a year:'))\n",
    "\n",
    "print(f'{year} is leap year' if check_leapyear(year) else f'{year} is not a leap year')"
   ]
  },
  {
   "cell_type": "markdown",
   "id": "94009fa9",
   "metadata": {},
   "source": [
    "# 9. Write a program that determines if a number is positive, negative, or zero."
   ]
  },
  {
   "cell_type": "code",
   "execution_count": 18,
   "id": "9f49e9c4",
   "metadata": {},
   "outputs": [
    {
     "name": "stdout",
     "output_type": "stream",
     "text": [
      "Enter a nummber:0\n",
      "This value is zero\n"
     ]
    }
   ],
   "source": [
    "num = int(input('Enter a nummber:'))\n",
    "if num > 0:\n",
    "    print('This value is positive')\n",
    "elif num < 0:\n",
    "    print('This value is negative')\n",
    "else:\n",
    "    print('This value is zero')"
   ]
  },
  {
   "cell_type": "markdown",
   "id": "920301bf",
   "metadata": {},
   "source": [
    "# 10. Write a program that calculates the grade based on a given percentage."
   ]
  },
  {
   "cell_type": "code",
   "execution_count": 27,
   "id": "e2dd3839",
   "metadata": {},
   "outputs": [
    {
     "name": "stdout",
     "output_type": "stream",
     "text": [
      "99\n",
      "A plus\n"
     ]
    }
   ],
   "source": [
    "num = int(input())\n",
    "if num>= 80 and num <= 100:\n",
    "    print('A plus')\n",
    "elif num>=70 and num <= 79:\n",
    "    print('A')\n",
    "elif num>=60 and num <= 69:\n",
    "    print('A minus')\n",
    "elif num>=50 and num <= 59:\n",
    "    print('B')\n",
    "elif num>=40 and num <= 49:\n",
    "    print('C')\n",
    "elif num>=33 and num <= 39:\n",
    "    print('D')\n",
    "else:\n",
    "    print('Fail')"
   ]
  },
  {
   "cell_type": "markdown",
   "id": "65f08a74",
   "metadata": {},
   "source": [
    "# For Loop"
   ]
  },
  {
   "cell_type": "markdown",
   "id": "0ac5c0b8",
   "metadata": {},
   "source": [
    "#11. Write a program that prints the first `n` natural numbers."
   ]
  },
  {
   "cell_type": "code",
   "execution_count": 35,
   "id": "683185b5",
   "metadata": {},
   "outputs": [
    {
     "name": "stdout",
     "output_type": "stream",
     "text": [
      "Please enter any number:10\n",
      "This is a list of natural number from 1 to 10\n",
      "1 2 3 4 5 6 7 8 9 10 "
     ]
    }
   ],
   "source": [
    "n = int(input('Please enter any number:'))\n",
    "print('This is a list of natural number from 1', 'to', n)\n",
    "\n",
    "for i in range(1, n+1):\n",
    "    print(i, end =' ')"
   ]
  },
  {
   "cell_type": "raw",
   "id": "55e5d74d",
   "metadata": {},
   "source": [
    "#12. Write a program that calculates the factorial of a number."
   ]
  },
  {
   "cell_type": "code",
   "execution_count": 38,
   "id": "18871bce",
   "metadata": {},
   "outputs": [
    {
     "name": "stdout",
     "output_type": "stream",
     "text": [
      "Please enter a number5\n",
      "Factorial of the given number is: 120\n"
     ]
    }
   ],
   "source": [
    "n = int(input('Please enter a number'))\n",
    "\n",
    "factorial = 1\n",
    "if n>= 1:\n",
    "    for i in range (1, n+1):\n",
    "        factorial = factorial *i\n",
    "        \n",
    "print('Factorial of the given number is:', factorial)"
   ]
  },
  {
   "cell_type": "markdown",
   "id": "46896603",
   "metadata": {},
   "source": [
    "#13. Write a program that generates a Fibonacci sequence of length `n`."
   ]
  },
  {
   "cell_type": "code",
   "execution_count": 40,
   "id": "dac00000",
   "metadata": {},
   "outputs": [
    {
     "name": "stdout",
     "output_type": "stream",
     "text": [
      "Number of terms7\n",
      "Fabonacci sequence:\n",
      "0\n",
      "1\n",
      "1\n",
      "2\n",
      "3\n",
      "5\n",
      "8\n"
     ]
    }
   ],
   "source": [
    "nterms = int(input('Number of terms'))\n",
    "n1, n2 = 0, 1\n",
    "count = 0\n",
    "if nterms <= 0:\n",
    "    print('Please enter a  posotive integer')\n",
    "elif nterms == 1:\n",
    "    print('Fabonacci sequence upto', nterms, ':')\n",
    "    print(n1)\n",
    "else:\n",
    "    print('Fabonacci sequence:')\n",
    "    while count < nterms:\n",
    "        print(n1)\n",
    "        nth = n1 + n2\n",
    "        n1 = n2\n",
    "        n2 = nth\n",
    "        count += 1\n"
   ]
  },
  {
   "cell_type": "markdown",
   "id": "bd420ebe",
   "metadata": {},
   "source": [
    "#14. Write a program that checks if a given number is prime or not."
   ]
  },
  {
   "cell_type": "code",
   "execution_count": 47,
   "id": "20ec3079",
   "metadata": {},
   "outputs": [
    {
     "name": "stdout",
     "output_type": "stream",
     "text": [
      "Enter a number:3\n",
      "3 is a prime numner\n"
     ]
    }
   ],
   "source": [
    "num = int(input('Enter a number:'))\n",
    "\n",
    "if num > 1:\n",
    "    for i in range (2, int(num/2+1)):\n",
    "        if (num%i) == 0:\n",
    "            print(num, 'is not a prime number')\n",
    "        break\n",
    "    else:\n",
    "        print(num, 'is a prime numner')\n",
    "else:\n",
    "    print(num, 'is not a prime number')"
   ]
  },
  {
   "cell_type": "markdown",
   "id": "b2562fa8",
   "metadata": {},
   "source": [
    "#15. Write a program that prints the multiplication table of a given number."
   ]
  },
  {
   "cell_type": "code",
   "execution_count": 48,
   "id": "6afed1ed",
   "metadata": {},
   "outputs": [
    {
     "name": "stdout",
     "output_type": "stream",
     "text": [
      "10 x 1 = 10\n",
      "10 x 2 = 20\n",
      "10 x 3 = 30\n",
      "10 x 4 = 40\n",
      "10 x 5 = 50\n",
      "10 x 6 = 60\n",
      "10 x 7 = 70\n",
      "10 x 8 = 80\n"
     ]
    }
   ],
   "source": [
    "num = 10\n",
    "for i in range (1, 9):\n",
    "    print(num, 'x', i, '=', num*i)"
   ]
  },
  {
   "cell_type": "markdown",
   "id": "f390847d",
   "metadata": {},
   "source": [
    "# While Loop"
   ]
  },
  {
   "cell_type": "markdown",
   "id": "42db9ba3",
   "metadata": {},
   "source": [
    "16. Write a program that finds the sum of all even numbers between 1 and `n"
   ]
  },
  {
   "cell_type": "code",
   "execution_count": 9,
   "id": "fd0fa178",
   "metadata": {},
   "outputs": [
    {
     "name": "stdout",
     "output_type": "stream",
     "text": [
      "Enter a number:8\n",
      "The sum of even numbers =  20\n"
     ]
    }
   ],
   "source": [
    "n = (int(input('Enter a number:')))\n",
    "i = 0\n",
    "s = 0\n",
    "\n",
    "while i <= n:\n",
    "      s = s+i\n",
    "      i = i+2\n",
    "print('The sum of even numbers = ',s)"
   ]
  },
  {
   "cell_type": "markdown",
   "id": "4689e406",
   "metadata": {},
   "source": [
    "#18. Write a program that checks if a given string is a palindrome."
   ]
  },
  {
   "cell_type": "code",
   "execution_count": 15,
   "id": "a3c0d26f",
   "metadata": {},
   "outputs": [
    {
     "name": "stdout",
     "output_type": "stream",
     "text": [
      "Enter string:pot\n",
      "The string is not a plaindrome\n"
     ]
    }
   ],
   "source": [
    "def GivenWord(string):\n",
    "    string=string.lower().replace('','')\n",
    "    first,last=0,len(string)-1\n",
    "    while(first<last):\n",
    "        \n",
    "        if(string[first]==string[last]):\n",
    "            first += 1\n",
    "            last -= 1\n",
    "        else:\n",
    "            return'The string is not a plaindrome'\n",
    "        \n",
    "    return'The string is plaindrome'\n",
    "\n",
    "str1 = input('Enter string:')\n",
    "\n",
    "print(GivenWord(str1))"
   ]
  },
  {
   "cell_type": "markdown",
   "id": "c7d80ae8",
   "metadata": {},
   "source": [
    "#19. Write a program that generates a random number and allows the user to guess it."
   ]
  },
  {
   "cell_type": "code",
   "execution_count": 16,
   "id": "eafcb266",
   "metadata": {},
   "outputs": [
    {
     "name": "stdout",
     "output_type": "stream",
     "text": [
      "Guess the number between 1 and 103\n",
      "Nope, sorry, Try again\n",
      "Guess the number between 1 and 105\n",
      "Nope, sorry, Try again\n",
      "Guess the number between 1 and 101\n",
      "Nope, sorry, Try again\n",
      "Guess the number between 1 and 107\n",
      "Nope, sorry, Try again\n",
      "Guess the number between 1 and 105\n",
      "Nope, sorry, Try again\n",
      "Guess the number between 1 and 104\n",
      "Nope, sorry, Try again\n",
      "Guess the number between 1 and 109\n",
      "Congratulations! you are correct!!\n"
     ]
    }
   ],
   "source": [
    "import random\n",
    "num = random.randint(1,10)\n",
    "guess = None\n",
    "\n",
    "while guess != num:\n",
    "    guess = input('Guess the number between 1 and 10')\n",
    "    guess = int(guess)\n",
    "    \n",
    "    if guess == num:\n",
    "        print('Congratulations! you are correct!!')\n",
    "        break\n",
    "    else:\n",
    "        print('Nope, sorry, Try again')\n",
    "        "
   ]
  },
  {
   "cell_type": "markdown",
   "id": "a23febb7",
   "metadata": {},
   "source": [
    "#20. Write a program that finds the greatest common divisor (GCD) of two numbers."
   ]
  },
  {
   "cell_type": "code",
   "execution_count": 1,
   "id": "e826ab15",
   "metadata": {},
   "outputs": [
    {
     "name": "stdout",
     "output_type": "stream",
     "text": [
      "Enter the first value:16\n",
      "Enter the second value24\n",
      "GCD of 16 and 24 = 8\n"
     ]
    }
   ],
   "source": [
    "a = int(input('Enter the first value:'))\n",
    "b = int(input('Enter the second value'))\n",
    "\n",
    "i = 1\n",
    "while (i<=a and i<=b):\n",
    "    if(a%i==0 and b%i==0):\n",
    "        v = i\n",
    "    i = i+1\n",
    "        \n",
    "print('GCD of {0} and {1} = {2}'.format(a,b,v))"
   ]
  }
 ],
 "metadata": {
  "kernelspec": {
   "display_name": "Python 3 (ipykernel)",
   "language": "python",
   "name": "python3"
  },
  "language_info": {
   "codemirror_mode": {
    "name": "ipython",
    "version": 3
   },
   "file_extension": ".py",
   "mimetype": "text/x-python",
   "name": "python",
   "nbconvert_exporter": "python",
   "pygments_lexer": "ipython3",
   "version": "3.11.5"
  }
 },
 "nbformat": 4,
 "nbformat_minor": 5
}
