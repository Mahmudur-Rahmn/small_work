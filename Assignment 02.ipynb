{
 "cells": [
  {
   "cell_type": "markdown",
   "id": "2f055e5d",
   "metadata": {},
   "source": [
    "# 1.  Write a program that swaps the values of two variables."
   ]
  },
  {
   "cell_type": "code",
   "execution_count": 1,
   "id": "f3f113b8",
   "metadata": {},
   "outputs": [
    {
     "name": "stdout",
     "output_type": "stream",
     "text": [
      "10 5\n"
     ]
    }
   ],
   "source": [
    "x = 5\n",
    "y = 10\n",
    "temp = x\n",
    "x = y\n",
    "y = temp\n",
    "print(x, y)"
   ]
  },
  {
   "cell_type": "code",
   "execution_count": 2,
   "id": "88f8f862",
   "metadata": {},
   "outputs": [
    {
     "name": "stdout",
     "output_type": "stream",
     "text": [
      "x =  10\n",
      "y =  5\n"
     ]
    }
   ],
   "source": [
    "x = 5\n",
    "y = 10\n",
    "x, y = y, x\n",
    "print('x = ', x)\n",
    "print('y = ', y)"
   ]
  },
  {
   "cell_type": "markdown",
   "id": "edefd7b0",
   "metadata": {},
   "source": [
    "# 2. Write a program that calculates the area of a rectangle given its length and width."
   ]
  },
  {
   "cell_type": "code",
   "execution_count": 3,
   "id": "7b997ced",
   "metadata": {},
   "outputs": [
    {
     "name": "stdout",
     "output_type": "stream",
     "text": [
      "Area of the ractangle: 24\n"
     ]
    }
   ],
   "source": [
    "length = 4\n",
    "width = 6\n",
    "area = length * width\n",
    "print('Area of the ractangle:', area)"
   ]
  },
  {
   "cell_type": "markdown",
   "id": "2dc29c4b",
   "metadata": {},
   "source": [
    "# 3. Write a program that converts temperature from Fahrenheit to Celsius."
   ]
  },
  {
   "cell_type": "code",
   "execution_count": 4,
   "id": "21cc9528",
   "metadata": {},
   "outputs": [
    {
     "data": {
      "text/plain": [
       "36.666666666666664"
      ]
     },
     "execution_count": 4,
     "metadata": {},
     "output_type": "execute_result"
    }
   ],
   "source": [
    "fah = 98\n",
    "cel = (fah-32)/1.8\n",
    "cel"
   ]
  },
  {
   "cell_type": "code",
   "execution_count": 5,
   "id": "ecb4d039",
   "metadata": {},
   "outputs": [
    {
     "name": "stdout",
     "output_type": "stream",
     "text": [
      "enter the temparature in fahrenheit:\n",
      "Equivalent Temperature in celsius: -6.666666666666666\n"
     ]
    }
   ],
   "source": [
    "print('enter the temparature in fahrenheit:')\n",
    "fah = float(input())\n",
    "cel = (fah-32)/1.8\n",
    "print('Equivalent Temperature in celsius:', cel)"
   ]
  },
  {
   "cell_type": "code",
   "execution_count": 6,
   "id": "6eee0aaf",
   "metadata": {},
   "outputs": [
    {
     "name": "stdout",
     "output_type": "stream",
     "text": [
      "Enter temperature in Farenheit:"
     ]
    },
    {
     "ename": "ValueError",
     "evalue": "could not convert string to float: ''",
     "output_type": "error",
     "traceback": [
      "\u001b[1;31m---------------------------------------------------------------------------\u001b[0m",
      "\u001b[1;31mValueError\u001b[0m                                Traceback (most recent call last)",
      "Cell \u001b[1;32mIn[6], line 4\u001b[0m\n\u001b[0;32m      2\u001b[0m     \u001b[38;5;28;01mreturn\u001b[39;00m(f\u001b[38;5;241m-\u001b[39m\u001b[38;5;241m32\u001b[39m)\u001b[38;5;241m/\u001b[39m\u001b[38;5;241m1.8\u001b[39m\n\u001b[0;32m      3\u001b[0m \u001b[38;5;28mprint\u001b[39m(\u001b[38;5;124m'\u001b[39m\u001b[38;5;124mEnter temperature in Farenheit:\u001b[39m\u001b[38;5;124m'\u001b[39m, end\u001b[38;5;241m=\u001b[39m\u001b[38;5;124m'\u001b[39m\u001b[38;5;124m'\u001b[39m)\n\u001b[1;32m----> 4\u001b[0m fah \u001b[38;5;241m=\u001b[39m \u001b[38;5;28;43mfloat\u001b[39;49m\u001b[43m(\u001b[49m\u001b[38;5;28;43minput\u001b[39;49m\u001b[43m(\u001b[49m\u001b[43m)\u001b[49m\u001b[43m)\u001b[49m\n\u001b[0;32m      6\u001b[0m cel \u001b[38;5;241m=\u001b[39m FahToCel(fah)\n\u001b[0;32m      7\u001b[0m \u001b[38;5;28mprint\u001b[39m(\u001b[38;5;124m'\u001b[39m\u001b[38;5;124mEquivalent Temperature in farenheit=\u001b[39m\u001b[38;5;132;01m{:.2f}\u001b[39;00m\u001b[38;5;124m'\u001b[39m\u001b[38;5;241m.\u001b[39m \u001b[38;5;28mformat\u001b[39m(cel))\n",
      "\u001b[1;31mValueError\u001b[0m: could not convert string to float: ''"
     ]
    }
   ],
   "source": [
    "def FahToCel(f):\n",
    "    return(f-32)/1.8\n",
    "print('Enter temperature in Farenheit:', end='')\n",
    "fah = float(input())\n",
    "\n",
    "cel = FahToCel(fah)\n",
    "print('Equivalent Temperature in farenheit={:.2f}'. format(cel))"
   ]
  },
  {
   "cell_type": "markdown",
   "id": "7c1e91fa",
   "metadata": {},
   "source": [
    "# 4 Write a program that calculates the volume of a sphere given its radius."
   ]
  },
  {
   "cell_type": "code",
   "execution_count": null,
   "id": "cb63176e",
   "metadata": {},
   "outputs": [
    {
     "name": "stdout",
     "output_type": "stream",
     "text": [
      "The volume of the sphere is: 904.7786842338603\n"
     ]
    }
   ],
   "source": [
    "#The volume of the sphere is : V = 4/3 × π × r3.\n",
    "# Value of pi\n",
    "pi = 3.1415926535897931\n",
    "#radius of the sphere\n",
    "r = 6.0\n",
    "print('The volume of the sphere is:', 4/3*pi*r**3)"
   ]
  },
  {
   "cell_type": "markdown",
   "id": "aaff70bf",
   "metadata": {},
   "source": [
    "# 5 Write a program that finds the average of three numbers"
   ]
  },
  {
   "cell_type": "code",
   "execution_count": null,
   "id": "ff0d008a",
   "metadata": {},
   "outputs": [
    {
     "name": "stdout",
     "output_type": "stream",
     "text": [
      "Avarage of three  numbers= 4.0\n"
     ]
    }
   ],
   "source": [
    "numbers = [3,4,5]\n",
    "average = sum(numbers)/len(numbers)\n",
    "print('Avarage of three  numbers=',average)"
   ]
  },
  {
   "cell_type": "markdown",
   "id": "d583a005",
   "metadata": {},
   "source": [
    "# 6. Write a program that determines if a number is even or odd."
   ]
  },
  {
   "cell_type": "code",
   "execution_count": 7,
   "id": "72c32814",
   "metadata": {},
   "outputs": [
    {
     "name": "stdout",
     "output_type": "stream",
     "text": [
      "This is an even number\n"
     ]
    }
   ],
   "source": [
    "num = int(input('Enter a number:'))\n",
    "if (num % 2) == 0:\n",
    "    print('This is an even number')\n",
    "else:\n",
    "    print('This is an odd number')    "
   ]
  },
  {
   "cell_type": "markdown",
   "id": "81c2281e",
   "metadata": {},
   "source": [
    "# 7. Write a program that finds the maximum of three numbers."
   ]
  },
  {
   "cell_type": "code",
   "execution_count": null,
   "id": "c7983f54",
   "metadata": {},
   "outputs": [],
   "source": [
    "x = 22\n",
    "y = 14\n",
    "z = 27\n",
    "if x > y and x > z:\n",
    "    max = x\n",
    "elif y > x and z > x:\n",
    "    max = y\n",
    "else:\n",
    "    max = z\n",
    "print('The largest number =', max)"
   ]
  },
  {
   "cell_type": "markdown",
   "id": "99d7b436",
   "metadata": {},
   "source": [
    "# 8. Write a program that determines if a year is a leap year or not."
   ]
  },
  {
   "cell_type": "code",
   "execution_count": 9,
   "id": "f5cbc77b",
   "metadata": {},
   "outputs": [
    {
     "name": "stdout",
     "output_type": "stream",
     "text": [
      "The year isn't a leap year!\n"
     ]
    }
   ],
   "source": [
    "year = int(input(\"Enter a year :\"))\n",
    "if year%4==0:\n",
    "    print(\"The year is a leap year!\")\n",
    "else:\n",
    "    print(\"The year isn't a leap year!\")"
   ]
  }
 ],
 "metadata": {
  "kernelspec": {
   "display_name": "Python 3 (ipykernel)",
   "language": "python",
   "name": "python3"
  },
  "language_info": {
   "codemirror_mode": {
    "name": "ipython",
    "version": 3
   },
   "file_extension": ".py",
   "mimetype": "text/x-python",
   "name": "python",
   "nbconvert_exporter": "python",
   "pygments_lexer": "ipython3",
   "version": "3.11.5"
  }
 },
 "nbformat": 4,
 "nbformat_minor": 5
}
